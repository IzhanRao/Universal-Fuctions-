{
 "cells": [
  {
   "cell_type": "code",
   "execution_count": 11,
   "id": "d8fb5689",
   "metadata": {},
   "outputs": [
    {
     "name": "stdout",
     "output_type": "stream",
     "text": [
      "Step 0 : [1, 2, 3, 4, 5, 6, 7, 8, 9, 10, 11, 12]\n",
      "Step 1 : [8, 9, 10, 11, 12]\n",
      "Step 2 : [11, 12]\n"
     ]
    },
    {
     "data": {
      "text/plain": [
       "11"
      ]
     },
     "execution_count": 11,
     "metadata": {},
     "output_type": "execute_result"
    }
   ],
   "source": [
    "def binary_search(list, element) :\n",
    "    middle= 0\n",
    "    start = 0\n",
    "    end   = len(list)\n",
    "    steps = 0\n",
    "    \n",
    "    while (start<=end):\n",
    "        print(\"Step\",steps, \":\", str(list[start:end+1]))\n",
    "        \n",
    "        steps= steps+1\n",
    "        middle = (start + end) // 2\n",
    "        \n",
    "        if element == list[middle]:\n",
    "            return middle \n",
    "        if element < list[middle]:\n",
    "            end = -1\n",
    "        else:\n",
    "            start= middle + 1\n",
    "    return -1\n",
    "\n",
    "my_list =[1,2,3,4,5,6,7,8,9,10,11,12]\n",
    "target = 12\n",
    "\n",
    "\n",
    "binary_search(my_list, target)\n",
    "\n",
    "        "
   ]
  },
  {
   "cell_type": "code",
   "execution_count": null,
   "id": "5af9c285",
   "metadata": {},
   "outputs": [],
   "source": [
    "for i in my_list:\n",
    "    if i == 12:\n",
    "        print(\"found\")"
   ]
  }
 ],
 "metadata": {
  "kernelspec": {
   "display_name": "Python 3 (ipykernel)",
   "language": "python",
   "name": "python3"
  },
  "language_info": {
   "codemirror_mode": {
    "name": "ipython",
    "version": 3
   },
   "file_extension": ".py",
   "mimetype": "text/x-python",
   "name": "python",
   "nbconvert_exporter": "python",
   "pygments_lexer": "ipython3",
   "version": "3.9.12"
  }
 },
 "nbformat": 4,
 "nbformat_minor": 5
}
