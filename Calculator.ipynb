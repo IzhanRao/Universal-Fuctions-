{
 "cells": [
  {
   "cell_type": "code",
   "execution_count": 1,
   "id": "1e4e4f5f",
   "metadata": {},
   "outputs": [],
   "source": [
    "#define the functions needed. add ,sub, mul,div\n",
    "#print options to the user\n",
    "#ask for values\n",
    "#call the fuctions\n",
    "#while loop to continue the program untill the user want to exit."
   ]
  },
  {
   "cell_type": "code",
   "execution_count": 2,
   "id": "fbbe1869",
   "metadata": {},
   "outputs": [
    {
     "name": "stdout",
     "output_type": "stream",
     "text": [
      "A. Addition\n",
      "B. Substraction\n",
      "C. Multiplication\n",
      "D. Division\n",
      "E. Exit\n",
      " input your choice: c\n",
      "Multiplication\n",
      "input First number77\n",
      "input second number2\n",
      "77 * 2 = 154\n"
     ]
    }
   ],
   "source": [
    "def add(a,b):\n",
    "    answer = a + b\n",
    "    print(str(a) +\" + \" + str(b) + \" = \"  + str(answer))\n",
    "\n",
    "def sub(a,b):\n",
    "    answer = a - b\n",
    "    print(str(a) +\" - \" + str(b) + \" = \" + str(answer))\n",
    "\n",
    "def mul(a,b):\n",
    "    answer = a * b\n",
    "    print(str(a) + \" * \" + str(b) + \" = \" + str(answer))           \n",
    "\n",
    "def div(a,b):\n",
    "    answer = a / b\n",
    "    print(str(a) + \" / \" + str(b) + \" = \" + str(answer))  \n",
    "    \n",
    "print(\"A. Addition\")\n",
    "print(\"B. Substraction\") \n",
    "print(\"C. Multiplication\")\n",
    "print(\"D. Division\") \n",
    "print(\"E. Exit\") \n",
    "\n",
    "\n",
    "choice =input(\" input your choice: \")\n",
    "\n",
    "if choice == \"a\" or choice == \"A\":\n",
    "    print (\"Addition\")\n",
    "    a= int(input(\"input First number\"))\n",
    "    b= int(input(\"input second number\"))\n",
    "    add(a,b)\n",
    "\n",
    "elif choice == \"b\" or choice == \"B\":\n",
    "    print (\"Substraction\")\n",
    "    a= int(input(\"input First number\"))\n",
    "    b= int(input(\"input second number\"))\n",
    "    sub(a,b)\n",
    "\n",
    "elif choice == \"c\" or choice == \"C\":\n",
    "    print (\"Multiplication\")\n",
    "    a= int(input(\"input First number\"))\n",
    "    b= int(input(\"input second number\"))\n",
    "    mul(a,b)\n",
    "    \n",
    "elif choice == \"d\" or choice == \"D\":\n",
    "    print (\"Division\")\n",
    "    a= int(input(\"input First number\"))\n",
    "    b= int(input(\"input second number\"))\n",
    "    div(a,b)\n",
    "    \n",
    "elif choice == \"e\" or choice == \"E\":\n",
    "    print (\"program is Ended\")\n",
    "    quit()\n",
    "    \n",
    "    "
   ]
  },
  {
   "cell_type": "code",
   "execution_count": 4,
   "id": "847953d7",
   "metadata": {},
   "outputs": [],
   "source": [
    "sum = 1+2\n"
   ]
  },
  {
   "cell_type": "code",
   "execution_count": 5,
   "id": "0ad07178",
   "metadata": {},
   "outputs": [
    {
     "data": {
      "text/plain": [
       "3"
      ]
     },
     "execution_count": 5,
     "metadata": {},
     "output_type": "execute_result"
    }
   ],
   "source": [
    "sum"
   ]
  },
  {
   "cell_type": "code",
   "execution_count": null,
   "id": "6f2d1f47",
   "metadata": {},
   "outputs": [],
   "source": []
  },
  {
   "cell_type": "code",
   "execution_count": null,
   "id": "6e5aec80",
   "metadata": {},
   "outputs": [],
   "source": []
  },
  {
   "cell_type": "code",
   "execution_count": null,
   "id": "ee9d1210",
   "metadata": {},
   "outputs": [],
   "source": []
  }
 ],
 "metadata": {
  "kernelspec": {
   "display_name": "Python 3 (ipykernel)",
   "language": "python",
   "name": "python3"
  },
  "language_info": {
   "codemirror_mode": {
    "name": "ipython",
    "version": 3
   },
   "file_extension": ".py",
   "mimetype": "text/x-python",
   "name": "python",
   "nbconvert_exporter": "python",
   "pygments_lexer": "ipython3",
   "version": "3.9.12"
  }
 },
 "nbformat": 4,
 "nbformat_minor": 5
}
